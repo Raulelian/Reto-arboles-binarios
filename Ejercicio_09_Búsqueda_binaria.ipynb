{
  "cells": [
    {
      "cell_type": "markdown",
      "metadata": {
        "id": "b-vzlq5IRGPp"
      },
      "source": [
        "# Ejercicio 9. Búsqueda binaria\n",
        "\n",
        "## Enunciado\n",
        "\n",
        "Ahora que sabemos qué es un árbol binario, imagina que hacemos que para cualquier nodo, todos los valores almacenados en el hijo izquierdo fueran menores que el valor de ese nodo y que todos los valores almacenados en el hijo derecho fueran mayores que el valor del nodo.\n",
        "\n",
        "Si esto se cumple para todos los nodos del árbol, este árbol es un árbol binario de búsqueda. ¿Por qué? Porque podemos ir _buscando_ los elementos simplemente sabiendo que si es mayor que el actual estará en el subárbol derecho y si es menor, estará en el subárbol izquierdo.\n",
        "\n",
        "Por ejemplo, el árbol siguiente es un árbol binario de búsqueda:\n",
        "\n",
        "![Árbol binario de búsqueda](data:image/png;base64,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)\n",
        "\n",
        "Crea una función que permita agregar un número a un árbol binario.\n",
        "Utilizando esa función puedes crear un árbol binario de búsqueda a partir de una lista de números enteros. Puedes probar con la siguiente lista de números:\n",
        "\n",
        "```\n",
        "[66, 34, 79, 26, 83, 39, 32, 60, 22, 74, 37, 80, 82, 50, 73, 66, 31, 44, 33, 51]\n",
        "```\n",
        "\n",
        "El árbol resultante a partir de la lista de ejemplo será:\n",
        "\n",
        "```\n",
        "[66,\n",
        "  [34,\n",
        "    [26,\n",
        "      [22,\n",
        "        [],\n",
        "        []],\n",
        "      [32,\n",
        "        [31,\n",
        "          [],\n",
        "          []],\n",
        "        [33,\n",
        "          [],\n",
        "          []]]],\n",
        "    [39,\n",
        "      [37,\n",
        "        [],\n",
        "        []],\n",
        "      [60,\n",
        "        [50,\n",
        "          [44,\n",
        "            [],\n",
        "            []],\n",
        "          [51,\n",
        "            [],\n",
        "            []]],\n",
        "        []]]],\n",
        "  [79,\n",
        "    [74,\n",
        "      [73,\n",
        "        [66,\n",
        "          [],\n",
        "          []],\n",
        "        []],\n",
        "      []],\n",
        "    [83,\n",
        "      [80,\n",
        "        [],\n",
        "        [82,\n",
        "          [],\n",
        "          []]],\n",
        "      []]]]\n",
        "```\n"
      ]
    },
    {
      "cell_type": "markdown",
      "metadata": {
        "id": "qQKe6216RGPr"
      },
      "source": [
        "## Ayuda a la implementación\n",
        "\n",
        "Ten en cuenta las siguientes cuestiones:\n",
        "\n",
        "- El primer elemento será el elemento raíz\n",
        "- Si el siguiente elemento es mayor, será el hijo derecho\n",
        "- En cambio, si es menor, será el hijo izquierdo\n",
        "- Haz esto para cada número de la lista de entrada\n",
        "- Un nodo se representa como una lista de tres valores que son valor, hijo izquierdo e hijo derecho (en ese orden)\n",
        "\n",
        "Recuerda que el método `.extend()` permite agregar varios elementos a una lista."
      ]
    }
  ],
  "metadata": {
    "language_info": {
      "name": "python"
    },
    "orig_nbformat": 4,
    "colab": {
      "provenance": []
    }
  },
  "nbformat": 4,
  "nbformat_minor": 0
}