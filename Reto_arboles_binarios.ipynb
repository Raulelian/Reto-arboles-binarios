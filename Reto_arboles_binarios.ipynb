{
  "nbformat": 4,
  "nbformat_minor": 0,
  "metadata": {
    "colab": {
      "provenance": []
    },
    "kernelspec": {
      "name": "python3",
      "display_name": "Python 3"
    },
    "language_info": {
      "name": "python"
    }
  },
  "cells": [
    {
      "cell_type": "markdown",
      "source": [
        "# Ejercicio 9. Árboles binarios (y III)\n",
        "# Enunciado\n",
        "¿Recuerdas los árboles binarios que utilizamos para simplificar la búsqueda y que resolvimos con listas de listas? Por si no te acuerdas, aquí tienes de nuevo la definición:\n",
        "\n",
        "Un árbol binario es una estructura de datos en la cual cada nodo tiene un valor y puede como máximo dos hijos que se denominan hijo izquierdo e hijo derecho. Un nodo no puede tener más de dos hijos (por eso el nombre de binario) pero puede tener menos, es decir, solamente puede tener cero, uno o dos hijos.\n",
        "\n",
        "Si hacemos que, para cualquier nodo, todos los valores almacenados en el hijo izquierdo sean menores que el valor de ese nodo y que todos los valores almacenados en el hijo derecho sean mayores que el valor del nodo, tenemos un árbol binario de búsqueda (ABB).\n",
        "\n",
        "Si un nodo no tiene hijos, se denomina nodo externo, en otro caso se denomina nodo interno.\n",
        "\n",
        "Ahora usaremos clases para representarlo. Para ello vamos a usar \"composición\", es decir, vamos a hacer que una clase tenga atributos que sean a su vez clases.\n",
        "\n",
        "Crea una clase que represente un nodo de un árbol binario de forma que debe tener un valor, un hijo izquierdo y un hijo derecho. Evidentemente, los hijos son opcionales, pero es evidente que son a su vez de tipo nodo. Es decir, un nodo está compuesto a su vez por dos nodos más.\n",
        "\n",
        "Agrega a la clase un método buscar que permita encontrar un valor en el árbol aprovechando las ventajas de un árbol binario de búsqueda.\n",
        "\n",
        "En caso de encontrarlo, el método devolverá el nodo (completo, es decir, un sub-árbol)\n",
        "En caso de que no esté en el árbol, devolverá el valor None.\n",
        "Agrega un método insertar que permita agregar un valor en el árbol de forma automática.\n",
        "\n",
        "Agrega un atributo coste_ultima_busqueda a la clase que almacene el número de nodos consultados para realizar la búsqueda.\n",
        "\n",
        "Ayuda a la implementación\n",
        "Para que te resulte más fácil ver que las cosas funcionan prueba a incluir dos métodos extra para ver los valores del árbol:\n",
        "\n",
        "Utiliza el método __repr__() para devolver el valor del nodo como una cadena de texto. Eso te permitirá imprimir un nodo en la pantalla\n",
        "Crea un método mostrar_arbol() que, partiendo del nodo actual muestre el contenido del ábol, así verás el contenido para ver que los métodos funcionan como deben.\n",
        "Si quieres utilizar datos de ejemplo, puedes utilizar este fragmento de código para crear un árbol:\n",
        "valores = [66, 34, 79, 26, 83, 39, 32, 60, 22, 74, 37, 80, 82, 50, 73, 31, 44, 33, 51]\n",
        "arbol = Abb(valores[0])\n",
        "for indice in range(1, len(valores)):\n",
        "  arbol.insertar(valores[indice])\n",
        "El método mostrar_arbol() devolverá la siguiente lista:\n",
        "\n",
        "[66, 34, 26, 22, 32, 31, 33, 39, 37, 60, 50, 44, 51, 79, 74, 73, 83, 80, 82]"
      ],
      "metadata": {
        "id": "sLUF5sIgMB7G"
      }
    },
    {
      "cell_type": "markdown",
      "source": [
        "![image.png](data:image/png;base64,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)"
      ],
      "metadata": {
        "id": "9Nn35dlhMum_"
      }
    },
    {
      "cell_type": "code",
      "source": [
        "arbol_binario_ejemplo = [\n",
        "  1,\n",
        "  [7,\n",
        "    [2,\n",
        "      [],\n",
        "      []],\n",
        "    [6,\n",
        "      [5,\n",
        "        [],\n",
        "        []],\n",
        "      [11,\n",
        "        [],\n",
        "        []]]],\n",
        "    [9,\n",
        "      [],\n",
        "      [9,\n",
        "        [5,\n",
        "          [],\n",
        "          []],\n",
        "        []]]]"
      ],
      "metadata": {
        "id": "v5MGSg7LMTv0"
      },
      "execution_count": null,
      "outputs": []
    },
    {
      "cell_type": "code",
      "source": [
        "class Nodo:\n",
        "  def __init__ (self, valor, hijo_d = None, hijo_i = None):\n",
        "    self.valor = valor\n",
        "    self.hijo_d = hijo_d\n",
        "    self.hijo_i = hijo_i\n",
        "\n",
        "  def __repr__ (self):\n",
        "    return f\"Arbol binario con valor {self.valor}, hijo derecho = {self.hijo_d}, hijo izquierdo = {self.hijo_i}\"\n",
        "\n",
        "  def buscar (self, valor):\n",
        "    if self.valor == valor:\n",
        "      return self\n",
        "    elif valor < self.valor and self.hijo_i is not None:\n",
        "      return self.hijo_i.buscar(valor)\n",
        "    elif valor > self.valor and self.hijo_d is not None:\n",
        "      return self.hijo_d.buscar(valor)\n",
        "    return None\n",
        "\n",
        "  def insertar(self, valor):\n",
        "\n",
        "        if valor < self.valor:\n",
        "            if self.hijo_i is None:\n",
        "                self.hijo_i = Nodo(valor)\n",
        "            else:\n",
        "                self.hijo_i.insertar(valor)\n",
        "        elif valor > self.valor:\n",
        "            if self.hijo_d is None:\n",
        "                self.hijo_d = Nodo(valor)\n",
        "            else:\n",
        "                self.hijo_d.insertar(valor)\n",
        "\n",
        "\n",
        "\n"
      ],
      "metadata": {
        "id": "-2p_bbA3MNGu"
      },
      "execution_count": 45,
      "outputs": []
    },
    {
      "cell_type": "code",
      "source": [
        "hijo_derecho = Nodo(valor=4)"
      ],
      "metadata": {
        "id": "KqQMjB3tPG3s"
      },
      "execution_count": 4,
      "outputs": []
    },
    {
      "cell_type": "code",
      "source": [
        "hijo_izquierdo = Nodo(valor=7)"
      ],
      "metadata": {
        "id": "7IPEq2viQBPo"
      },
      "execution_count": 5,
      "outputs": []
    },
    {
      "cell_type": "code",
      "source": [
        "nodo_padre = Nodo(10, hijo_derecho, hijo_izquierdo)"
      ],
      "metadata": {
        "id": "Np_7DExnQHd2"
      },
      "execution_count": 23,
      "outputs": []
    },
    {
      "cell_type": "code",
      "source": [
        "print (nodo_padre)"
      ],
      "metadata": {
        "colab": {
          "base_uri": "https://localhost:8080/"
        },
        "id": "5sWm87toQUrG",
        "outputId": "bc8eb383-ddce-4781-828b-28261b74ec90"
      },
      "execution_count": 7,
      "outputs": [
        {
          "output_type": "stream",
          "name": "stdout",
          "text": [
            "Arbol binario con valor 10, hijo derecho = Arbol binario con valor 4, hijo derecho = None, hijo izquierdo = None, hijo izquierdo = Arbol binario con valor 7, hijo derecho = None, hijo izquierdo = None\n"
          ]
        }
      ]
    },
    {
      "cell_type": "code",
      "source": [
        "hijo_der = Nodo(valor=15)\n",
        "hijo_izq = Nodo(valor=5)\n",
        "nodo_raiz = Nodo(valor=10, hijo_d=hijo_der, hijo_i=hijo_izq)\n"
      ],
      "metadata": {
        "id": "IExm84ugTT9K"
      },
      "execution_count": 46,
      "outputs": []
    },
    {
      "cell_type": "code",
      "source": [
        "print(nodo_raiz.buscar(5))"
      ],
      "metadata": {
        "colab": {
          "base_uri": "https://localhost:8080/"
        },
        "id": "bXNVzPaeTYtw",
        "outputId": "f5f72992-0814-4395-9da8-d13426e84277"
      },
      "execution_count": 47,
      "outputs": [
        {
          "output_type": "stream",
          "name": "stdout",
          "text": [
            "Arbol binario con valor 5, hijo derecho = None, hijo izquierdo = None\n"
          ]
        }
      ]
    },
    {
      "cell_type": "code",
      "source": [
        "print(nodo_raiz.insertar(10))"
      ],
      "metadata": {
        "colab": {
          "base_uri": "https://localhost:8080/"
        },
        "id": "CjPEz23JV2BO",
        "outputId": "7e36b8c3-d3f4-49dc-b9c7-f7029dc51887"
      },
      "execution_count": 49,
      "outputs": [
        {
          "output_type": "stream",
          "name": "stdout",
          "text": [
            "None\n"
          ]
        }
      ]
    }
  ]
}